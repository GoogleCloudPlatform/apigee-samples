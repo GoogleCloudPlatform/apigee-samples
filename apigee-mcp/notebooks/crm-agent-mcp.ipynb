{
 "cells": [
  {
   "cell_type": "markdown",
   "id": "a06e1de6",
   "metadata": {},
   "source": [
    "## CRM Agent with ADK\n",
    "\n",
    "<table align=\"left\">\n",
    "    <td style=\"text-align: center\">\n",
    "        <a href=\"https://colab.research.google.com/github/GoogleCloudPlatform/apigee-samples/blob/main/apigee-mcp/notebooks/crm-agent-mcp.ipynb\">\n",
    "          <img src=\"https://cloud.google.com/ml-engine/images/colab-logo-32px.png\" alt=\"Google Colaboratory logo\\\"><br> Open in Colab\n",
    "        </a>\n",
    "      </td>\n",
    "      <td style=\"text-align: center\">\n",
    "        <a href=\"https://console.cloud.google.com/vertex-ai/colab/import/https%3A%2F%2Fraw.githubusercontent.com%2FGoogleCloudPlatform%2Fapigee-samples%2Fmain%2Fapigee-mcp/notebooks%2Fcrm-agent-mcp.ipynb\">\n",
    "          <img width=\"32px\" src=\"https://lh3.googleusercontent.com/JmcxdQi-qOpctIvWKgPtrzZdJJK-J3sWE1RsfjZNwshCFgE_9fULcNpuXYTilIR2hjwN\" alt=\"Google Cloud Colab Enterprise logo\"><br> Open in Colab Enterprise\n",
    "        </a>\n",
    "      </td>    \n",
    "      <td style=\"text-align: center\">\n",
    "        <a href=\"https://github.com/GoogleCloudPlatform/apigee-samples/blob/main/apigee-mcp/notebooks/crm-agent-mcp.ipynb\">\n",
    "          <img src=\"https://cloud.google.com/ml-engine/images/github-logo-32px.png\" alt=\"GitHub logo\"><br> View on GitHub\n",
    "        </a>\n",
    "      </td>\n",
    "</table>\n",
    "<br />\n",
    "<br />\n",
    "<br />\n",
    "<br />\n"
   ]
  },
  {
   "cell_type": "markdown",
   "id": "f756ce96",
   "metadata": {},
   "source": [
    "The notebook demonstrates how an ADK agent can connect to an Apigee MCP server, discover the dynamically generated tools (which correspond to your Apigee API Products), and invoke them.\n",
    "\n",
    "<img src=\"../img/crm_agent.png\" alt=\"CRM Agent\" style=\"width:800px;\"/>\n",
    "\n",
    "### Pre-requisites\n",
    "\n",
    "Follow [these instructions](../README.md#Deployment%20and%20Testing) to build and deploy the Apigee MCP server.\n"
   ]
  },
  {
   "cell_type": "markdown",
   "id": "09966db3",
   "metadata": {},
   "source": [
    "### Install Dependencies"
   ]
  },
  {
   "cell_type": "code",
   "execution_count": null,
   "id": "aa9b89f3",
   "metadata": {},
   "outputs": [],
   "source": [
    "%pip install google-adk==1.0.0 -q\n",
    "%pip install litellm -q"
   ]
  },
  {
   "cell_type": "markdown",
   "id": "816dc380",
   "metadata": {},
   "source": [
    "### Import Dependencies"
   ]
  },
  {
   "cell_type": "code",
   "execution_count": 57,
   "id": "67918b42",
   "metadata": {},
   "outputs": [],
   "source": [
    "import os\n",
    "import sys\n",
    "from google.genai import types\n",
    "from google.adk.agents import Agent\n",
    "from google.adk.runners import Runner\n",
    "from google.adk.sessions import InMemorySessionService\n",
    "from google.adk.artifacts.in_memory_artifact_service import InMemoryArtifactService # Optional\n",
    "from google.adk.tools.mcp_tool.mcp_toolset import MCPToolset, SseServerParams"
   ]
  },
  {
   "cell_type": "markdown",
   "id": "a7cfd34b",
   "metadata": {},
   "source": [
    "### Set Auth"
   ]
  },
  {
   "cell_type": "code",
   "execution_count": 58,
   "id": "6eaa8653",
   "metadata": {},
   "outputs": [],
   "source": [
    "CLOUD_PROJECT = \"GCP_PROJECT_ID\" # @param {type:\"string\"}\n",
    "os.environ[\"GOOGLE_GENAI_USE_VERTEXAI\"]=\"TRUE\"\n",
    "os.environ[\"GOOGLE_CLOUD_PROJECT\"]= CLOUD_PROJECT\n",
    "os.environ[\"GOOGLE_CLOUD_LOCATION\"]=\"us-central1\"\n",
    "\n",
    "if \"google.colab\" in sys.modules:\n",
    "    from google.colab import auth\n",
    "    auth.authenticate_user()"
   ]
  },
  {
   "cell_type": "markdown",
   "id": "146793a9",
   "metadata": {},
   "source": [
    "### Get Apigee MCP Tools"
   ]
  },
  {
   "cell_type": "code",
   "execution_count": null,
   "id": "5538ccb9",
   "metadata": {},
   "outputs": [],
   "source": [
    "def get_customer_tools():\n",
    "  \"\"\"Gets tools from the Customer MCP Server.\"\"\"\n",
    "  print(\"Attempting to connect to Customer MCP server...\")\n",
    "  \n",
    "  mcp_base_url = f\"APIGEE_MCP_CRM_ENDPOINT\" # @param {type:\"string\"}\n",
    "  if not mcp_base_url:\n",
    "    raise ValueError(\"Variable MCP_BASE_URL is not set.\")\n",
    "\n",
    "  client_id = \"CRM_TOOLS_API_KEY\"  # @param {type:\"string\"}\n",
    "\n",
    "  if not client_id:\n",
    "    raise ValueError(\"Environment variable CRM_TOOLS_API_KEY is not set.\")\n",
    "\n",
    "  tools_packed = MCPToolset(\n",
    "      connection_params=SseServerParams(\n",
    "          url=mcp_base_url,\n",
    "          headers={\"x-api-key\": client_id},\n",
    "      )\n",
    "  )\n",
    "  print(\"MCP Customer Toolset created successfully.\")\n",
    "  return tools_packed"
   ]
  },
  {
   "cell_type": "markdown",
   "id": "02cc75d8",
   "metadata": {},
   "source": [
    "### Initialize Agent"
   ]
  },
  {
   "cell_type": "code",
   "execution_count": 60,
   "id": "aafb42cd",
   "metadata": {},
   "outputs": [],
   "source": [
    "def get_customer_agent():\n",
    "    \"\"\"Creates a Customer Agent\"\"\"\n",
    "    tools = get_customer_tools()\n",
    "    customer_agent = Agent(\n",
    "        model=\"gemini-2.5-pro-preview-05-06\",\n",
    "        name=\"customer_agent\",\n",
    "        description=\"Central authority for all customer account data and related engagement triggers\",\n",
    "        instruction=\"\"\"\n",
    "        - You are responsible for managing customer account data. Your primary function is to use the available tool operations to accurately and securely handle customer information.\n",
    "          - **Manage user profiles:**\n",
    "            - Retrieve comprehensive profile details for a specific customer using their customer ID. This can be used for purposes like pre-filling order forms.\n",
    "          - **Manage customer addresses:**\n",
    "            - Retrieve a list of all saved addresses for a specific customer.\n",
    "            - Retrieve the details of a specific address for a customer.\n",
    "        \"\"\",\n",
    "        tools=[tools],\n",
    "    )\n",
    "    return customer_agent"
   ]
  },
  {
   "cell_type": "markdown",
   "id": "77c643c1",
   "metadata": {},
   "source": [
    "### Build Agent Runtime"
   ]
  },
  {
   "cell_type": "code",
   "execution_count": 61,
   "id": "8601f3a7",
   "metadata": {},
   "outputs": [],
   "source": [
    "APP_NAME=\"crm_app\"\n",
    "USER_ID=\"user_fs\"\n",
    "SESSION_ID=\"user_session\"\n",
    "\n",
    "async def async_main():\n",
    "  session_service = InMemorySessionService()\n",
    "  artifacts_service = InMemoryArtifactService()\n",
    "\n",
    "  session = await session_service.create_session(\n",
    "      app_name=APP_NAME, user_id=USER_ID, session_id=SESSION_ID\n",
    "  )\n",
    "  query = \"get details about customer 1234\"\n",
    "  print(f\"User Query: '{query}'\")\n",
    "  content = types.Content(role='user', parts=[types.Part(text=query)])\n",
    "\n",
    "  root_agent = get_customer_agent()\n",
    "\n",
    "  runner = Runner(\n",
    "      app_name='crm_app',\n",
    "      agent=root_agent,\n",
    "      artifact_service=artifacts_service,\n",
    "      session_service=session_service,\n",
    "  )\n",
    "\n",
    "  print(\"Running agent...\")\n",
    "  events_async = runner.run_async(\n",
    "      session_id=SESSION_ID, user_id=USER_ID, new_message=content\n",
    "  )\n",
    "\n",
    "  async for event in events_async:\n",
    "    print(f\"Event received: {event}\")\n",
    "\n",
    "  print(\"Cleanup complete.\")"
   ]
  },
  {
   "cell_type": "markdown",
   "id": "c71a407c",
   "metadata": {},
   "source": [
    "### Execute Agent"
   ]
  },
  {
   "cell_type": "code",
   "execution_count": null,
   "id": "951433d5",
   "metadata": {},
   "outputs": [],
   "source": [
    "await async_main()"
   ]
  }
 ],
 "metadata": {
  "kernelspec": {
   "display_name": ".venv",
   "language": "python",
   "name": "python3"
  },
  "language_info": {
   "codemirror_mode": {
    "name": "ipython",
    "version": 3
   },
   "file_extension": ".py",
   "mimetype": "text/x-python",
   "name": "python",
   "nbconvert_exporter": "python",
   "pygments_lexer": "ipython3",
   "version": "3.13.3"
  }
 },
 "nbformat": 4,
 "nbformat_minor": 5
}
