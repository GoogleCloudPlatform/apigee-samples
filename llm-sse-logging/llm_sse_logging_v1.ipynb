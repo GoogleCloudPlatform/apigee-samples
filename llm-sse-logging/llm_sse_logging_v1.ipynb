{
 "cells": [
  {
   "cell_type": "markdown",
   "metadata": {
    "id": "7QC8yC7SoSMn"
   },
   "source": [
    "# **Logging Streaming server-sent events using Apigee**\n",
    "\n",
    "<table align=\"left\">\n",
    "    <td style=\"text-align: center\">\n",
    "        <a href=\"https://colab.research.google.com/github/GoogleCloudPlatform/apigee-samples/blob/main/llm-sse-logging/llm_sse_logging_v1.ipynb\">\n",
    "          <img src=\"https://github.com/GoogleCloudPlatform/apigee-samples/blob/main/images/icon32.png?raw=true\" alt=\"Google Colaboratory logo\\\"><br> Open in Colab\n",
    "        </a>\n",
    "      </td>\n",
    "      <td style=\"text-align: center\">\n",
    "        <a href=\"https://console.cloud.google.com/vertex-ai/colab/import/https%3A%2F%2Fraw.githubusercontent.com%2FGoogleCloudPlatform%2Fapigee-samples%2Fmain%2Fllm-sse-logging%2Fllm_sse_logging_v1.ipynb\">\n",
    "          <img width=\"32px\" src=\"https://lh3.googleusercontent.com/JmcxdQi-qOpctIvWKgPtrzZdJJK-J3sWE1RsfjZNwshCFgE_9fULcNpuXYTilIR2hjwN\" alt=\"Google Cloud Colab Enterprise logo\"><br> Open in Colab Enterprise\n",
    "        </a>\n",
    "      </td>    \n",
    "      <td style=\"text-align: center\">\n",
    "        <a href=\"https://console.cloud.google.com/vertex-ai/workbench/deploy-notebook?download_url=https://raw.githubusercontent.com/GoogleCloudPlatform/apigee-samples/main/llm-sse-logging/llm_sse_logging_v1.ipynb\">\n",
    "          <img src=\"https://lh3.googleusercontent.com/UiNooY4LUgW_oTvpsNhPpQzsstV5W8F7rYgxgGBD85cWJoLmrOzhVs_ksK_vgx40SHs7jCqkTkCk=e14-rj-sc0xffffff-h130-w32\" alt=\"Vertex AI logo\"><br> Open in Workbench\n",
    "        </a>\n",
    "      </td>\n",
    "      <td style=\"text-align: center\">\n",
    "        <a href=\"https://github.com/GoogleCloudPlatform/apigee-samples/blob/main/llm-sse-logging/llm_sse_logging_v1.ipynb\">\n",
    "          <img src=\"https://github.com/GoogleCloudPlatform/apigee-samples/blob/main/images/github-mark.png?raw=true\" width=\"30\" alt=\"GitHub logo\"><br> View on GitHub\n",
    "        </a>\n",
    "      </td>\n",
    "</table>\n",
    "<br />\n",
    "<br />\n",
    "<br />\n",
    "\n",
    "# Logging Sample\n",
    "\n",
    "Logging both prompts and candidate responses from large language models (LLMs) allows for detailed analysis and improvement of the model's performance over time. By examining past interactions, AI practitioners can identify patterns leading to refinements in the training data or model architecture. Furthermore, by examining the prompts security teams can detect malicious intent, such as attempts to extract sensitive information or generate harmful content.\n",
    "\n",
    "Additionally, logging the generated SSE data provides insights into the LLM's behavior and helps identify any biases or vulnerabilities in the model itself. This information can then be used to improve security measures, fine-tune the model, and mitigate potential risks associated with LLM usage.\n",
    "\n",
    "![image](https://github.com/GoogleCloudPlatform/apigee-samples/blob/main/llm-sse-logging/images/arch.png?raw=1)\n",
    "\n",
    "\n",
    "# Benefits of Logging with Apigee and Google Cloud Logging\n",
    "\n",
    "* **Seamless logging**: Effortlessly capture prompts, candidate responses, and metadata without complex coding.\n",
    "* **Scalable and secure**: Leverage Google Cloud's infrastructure for reliable and secure log management.\n",
    "\n",
    "# How does it work?\n",
    "\n",
    "1. Prompt request is receved by an Apigee Proxy.\n",
    "2. Apigee extracts prompt and SSE event response objects.\n",
    "3. Apigee logs prompt and consolidates the data from each event object and logs them to Cloud Logging.\n",
    "\n",
    "# Setup\n",
    "\n",
    "Use the following GCP CloudShell tutorial. Follow the instructions to deploy the sample.\n",
    "\n",
    "[![Open in Cloud Shell](https://gstatic.com/cloudssh/images/open-btn.svg)](https://ssh.cloud.google.com/cloudshell/open?cloudshell_git_repo=https://github.com/GoogleCloudPlatform/apigee-samples&cloudshell_git_branch=main&cloudshell_workspace=.&cloudshell_tutorial=llm-sse-logging/docs/cloudshell-tutorial.md)\n",
    "\n",
    "# Test Sample\n",
    "\n",
    "## Install dependencies\n"
   ]
  },
  {
   "cell_type": "code",
   "execution_count": null,
   "metadata": {
    "id": "9AuXsoJDZPMs"
   },
   "outputs": [],
   "source": [
    "!pip install -Uq google-cloud-aiplatform\n",
    "!pip install -Uq google-genai"
   ]
  },
  {
   "cell_type": "markdown",
   "metadata": {
    "id": "LpGncHDpentW"
   },
   "source": [
    "## Authenticate your notebook environment (Colab only)\n",
    "If you are running this notebook on Google Colab, run the following cell to authenticate your environment. This step is not required if you are using Vertex AI Workbench or Colab Enterprise."
   ]
  },
  {
   "cell_type": "code",
   "execution_count": 10,
   "metadata": {
    "id": "8layJrBOZP4-"
   },
   "outputs": [],
   "source": [
    "import sys\n",
    "\n",
    "# Additional authentication is required for Google Colab\n",
    "if \"google.colab\" in sys.modules:\n",
    "    # Authenticate user to Google Cloud\n",
    "    from google.colab import auth\n",
    "\n",
    "    auth.authenticate_user()"
   ]
  },
  {
   "cell_type": "markdown",
   "metadata": {
    "id": "-4eVYn8frc5i"
   },
   "source": [
    "## Initialize notebook variables\n",
    "\n",
    "* **PROJECT_ID**: The default GCP project to use when making Vertex API calls.\n",
    "* **REGION**: The default location to use when making API calls.\n",
    "* **API_ENDPOINT**:  Desired API endpoint, e.g. https://apigee.iloveapimanagement.com/generate"
   ]
  },
  {
   "cell_type": "code",
   "execution_count": null,
   "metadata": {},
   "outputs": [],
   "source": [
    "PROJECT_ID = \"\"  # @param {type:\"string\"}\n",
    "LOCATION = \"\"  # @param {type:\"string\"}\n",
    "API_ENDPOINT = \"https://APIGEE_HOST/v1/samples/llm-sse-logging\"  # @param {type:\"string\"}\n",
    "MODEL = \"gemini-2.0-flash\""
   ]
  },
  {
   "cell_type": "markdown",
   "metadata": {
    "id": "S478piq-SGLc"
   },
   "source": [
    "## Test Sample\n",
    "\n",
    "Apigee allows you to seamlessly send logs to Cloud Logging using native integration with the [Message Logging](https://cloud.google.com/apigee/docs/api-platform/reference/policies/message-logging-policy#cloudloggingelement) policy. This sample also includes a message chunking solution that allows logging very long messages (ex. 1M tokens supported by Gemini) and connecting them together using a unique message identifier.\n",
    "\n",
    "With the following cell you'll be able to invoke an LLM and both prompt and candidate resposne will be logged in Cloud Logging."
   ]
  },
  {
   "cell_type": "markdown",
   "metadata": {},
   "source": [
    "### Using GenAI SDK"
   ]
  },
  {
   "cell_type": "code",
   "execution_count": null,
   "metadata": {},
   "outputs": [],
   "source": [
    "from google import genai\n",
    "from google.genai import types\n",
    "\n",
    "client = genai.Client(\n",
    "    vertexai=True,\n",
    "    project=PROJECT_ID,\n",
    "    location=LOCATION,\n",
    "    http_options=types.HttpOptions(api_version='v1', base_url=API_ENDPOINT)\n",
    ")\n",
    "\n",
    "for chunk in client.models.generate_content_stream(\n",
    "    model=MODEL, contents=\"Why is the sky blue?\"\n",
    "):\n",
    "    print(chunk.text, end='')"
   ]
  },
  {
   "cell_type": "markdown",
   "metadata": {
    "id": "ZjW8UBEnZg9U"
   },
   "source": [
    "## Explore and Analyze Logs with Cloud Logging\n",
    "\n",
    "1. Navigate to the Cloud Logging Explorer by [**clicking here**](https://console.cloud.google.com/logs/query?_ga=2.194228271.307340908.1727018794-898542846.1726863667).\n",
    "\n",
    "2. Set the query filter. Make sure to replace the `PROJECT_ID` with the Apigee project ID:\n",
    "\n",
    "  ```\n",
    "  logName=\"projects/PROJECT_ID/logs/apigee\"\n",
    "  ```\n",
    "3. Run the query and explore the logs. See example below:\n",
    "\n",
    "  ![image](https://github.com/GoogleCloudPlatform/apigee-samples/blob/main/llm-logging/images/logs-explorer.png?raw=1)\n"
   ]
  }
 ],
 "metadata": {
  "colab": {
   "provenance": []
  },
  "kernelspec": {
   "display_name": "Python 3",
   "name": "python3"
  },
  "language_info": {
   "name": "python"
  }
 },
 "nbformat": 4,
 "nbformat_minor": 0
}
